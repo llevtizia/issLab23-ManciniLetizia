{
 "cells": [
  {
   "cell_type": "markdown",
   "metadata": {},
   "source": [
    "## mqttPlotQakEvents.ipynb"
   ]
  },
  {
   "cell_type": "code",
   "execution_count": 5,
   "metadata": {},
   "outputs": [
    {
     "name": "stdout",
     "output_type": "stream",
     "text": [
      "connected to broker  mqtt.eclipseprojects.io\n",
      "subscribing to unibo/sonar/events\n",
      "collecting values; please wait ...\n",
      "RECEIVED  msg(sonardata,event,sonar,none,distance(21.1),21)\n",
      "RECEIVED  msg(sonardata,event,sonar,none,distance(20.8),22)\n",
      "RECEIVED  msg(sonardata,event,sonar,none,distance(21.4),23)\n",
      "RECEIVED  msg(sonardata,event,sonar,none,distance(21.0),24)\n",
      "RECEIVED  msg(sonardata,event,sonar,none,distance(21.3),25)\n",
      "RECEIVED  msg(sonardata,event,sonar,none,distance(21.2),26)\n",
      "RECEIVED  msg(sonardata,event,sonar,none,distance(21.3),27)\n",
      "RECEIVED  msg(sonardata,event,sonar,none,distance(21.1),28)\n",
      "RECEIVED  msg(sonardata,event,sonar,none,distance(21.4),29)\n",
      "RECEIVED  msg(sonardata,event,sonar,none,distance(21.0),30)\n",
      "RECEIVED  msg(sonardata,event,sonar,none,distance(20.8),31)\n",
      "RECEIVED  msg(sonardata,event,sonar,none,distance(21.1),32)\n",
      "RECEIVED  msg(sonardata,event,sonar,none,distance(21.2),33)\n",
      "RECEIVED  msg(sonardata,event,sonar,none,distance(21.4),34)\n",
      "RECEIVED  msg(sonardata,event,sonar,none,distance(22.1),35)\n",
      "RECEIVED  msg(sonardata,event,sonar,none,distance(21.1),36)\n",
      "RECEIVED  msg(sonardata,event,sonar,none,distance(21.3),37)\n",
      "RECEIVED  msg(sonardata,event,sonar,none,distance(21.0),38)\n",
      "RECEIVED  msg(sonardata,event,sonar,none,distance(21.3),39)\n",
      "RECEIVED  msg(sonardata,event,sonar,none,distance(21.0),40)\n",
      "RECEIVED  msg(sonardata,event,sonar,none,distance(21.0),41)\n",
      "RECEIVED  msg(sonardata,event,sonar,none,distance(21.0),42)\n",
      "RECEIVED  msg(sonardata,event,sonar,none,distance(21.1),43)\n",
      "RECEIVED  msg(sonardata,event,sonar,none,distance(21.0),44)\n",
      "RECEIVED  msg(sonardata,event,sonar,none,distance(21.0),45)\n",
      "RECEIVED  msg(sonardata,event,sonar,none,distance(21.1),46)\n",
      "RECEIVED  msg(sonardata,event,sonar,none,distance(21.4),47)\n",
      "RECEIVED  msg(sonardata,event,sonar,none,distance(21.0),48)\n",
      "RECEIVED  msg(sonardata,event,sonar,none,distance(21.3),49)\n",
      "RECEIVED  msg(sonardata,event,sonar,none,distance(21.1),50)\n",
      "RECEIVED  msg(sonardata,event,sonar,none,distance(20.9),51)\n"
     ]
    },
    {
     "data": {
      "image/png": "[encoded data removed]",
      "text/plain": [
       "<Figure size 432x288 with 1 Axes>"
      ]
     },
     "metadata": {
      "needs_background": "light"
     },
     "output_type": "display_data"
    },
    {
     "name": "stdout",
     "output_type": "stream",
     "text": [
      "bye\n"
     ]
    }
   ],
   "source": [
    "import time\n",
    "import paho.mqtt.client as paho\n",
    "import matplotlib.pyplot as plt\n",
    "\n",
    "brokerAddr=\"mqtt.eclipseprojects.io\"  #\"mqtt.eclipseprojects.io\"  #\"broker.hivemq.com\" \n",
    "duration = 20\n",
    "x        = []\n",
    "d        = []\n",
    "n        = 0\n",
    "goon     = True\n",
    "msgnum   = 0 \n",
    "##############################################################\n",
    "###  msg(sonarRobot,event,sonar,none,sonar(V),N)\n",
    "##############################################################\n",
    "def diagram() :\n",
    "    global d\n",
    "    plt.ylabel('sonar data')\n",
    "    plt.plot(list(d), 'ro', color='red')\n",
    "    plt.show()\n",
    "    \n",
    "def on_message(client, userdata, message) :   #define callback\n",
    "    global msgnum,  x,y,z, goon\n",
    "    if not goon :\n",
    "        return\n",
    "    evMsg   = str( message.payload.decode(\"utf-8\")  )\n",
    "    print(\"RECEIVED \", evMsg)\n",
    "    msgitems = evMsg.split(\",\")\n",
    "    if msgnum < 30  :\n",
    "        msgnum = msgnum + 1\n",
    "        vd = float( msgitems[4].split('(')[1].split(')')[0] )\n",
    "        ## if msgnum % 10 == 0  :\n",
    "        ##    print(\"evMsg=\", evMsg, vd   )  \n",
    "        d.append( vd )\n",
    "    else  :\n",
    "        #print(\"evMsg plot=\", evMsg, \"msgnum=\",  msgitems[4] )\n",
    "        diagram()\n",
    "        goon = False\n",
    "        client.disconnect()\n",
    "    \n",
    "client= paho.Client(\"receiver\")      \n",
    "client.on_message=on_message            # Bind function to callback\n",
    "\n",
    "client.connect(brokerAddr)              #connect\n",
    "print(\"connected to broker \", brokerAddr)\n",
    "print(\"subscribing to unibo/sonar/events\")\n",
    "client.subscribe(\"unibo/sonar/events\")      #subscribe\n",
    "\n",
    "print(\"collecting values; please wait ...\" )\n",
    "client.loop_start()             #start loop to process received messages\n",
    "time.sleep(duration)\n",
    "client.disconnect()             #disconnect\n",
    "print(\"bye\")\n",
    "client.loop_stop()              #stop loop    "
   ]
  },
  {
   "cell_type": "code",
   "execution_count": null,
   "metadata": {},
   "outputs": [],
   "source": []
  }
 ],
 "metadata": {
  "kernelspec": {
   "display_name": "Python 3",
   "language": "python",
   "name": "python3"
  },
  "language_info": {
   "codemirror_mode": {
    "name": "ipython",
    "version": 3
   },
   "file_extension": ".py",
   "mimetype": "text/x-python",
   "name": "python",
   "nbconvert_exporter": "python",
   "pygments_lexer": "ipython3",
   "version": "3.8.8"
  }
 },
 "nbformat": 4,
 "nbformat_minor": 2
}
